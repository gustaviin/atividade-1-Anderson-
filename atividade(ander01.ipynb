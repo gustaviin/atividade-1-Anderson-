{
  "nbformat": 4,
  "nbformat_minor": 0,
  "metadata": {
    "colab": {
      "provenance": [],
      "authorship_tag": "ABX9TyNEvAzKPEUUJBBrtKU6H54T",
      "include_colab_link": true
    },
    "kernelspec": {
      "name": "python3",
      "display_name": "Python 3"
    },
    "language_info": {
      "name": "python"
    }
  },
  "cells": [
    {
      "cell_type": "markdown",
      "metadata": {
        "id": "view-in-github",
        "colab_type": "text"
      },
      "source": [
        "<a href=\"https://colab.research.google.com/github/gustaviin/atividade-1-Anderson-/blob/main/atividade(ander01.ipynb\" target=\"_parent\"><img src=\"https://colab.research.google.com/assets/colab-badge.svg\" alt=\"Open In Colab\"/></a>"
      ]
    },
    {
      "cell_type": "markdown",
      "source": [
        "Exercicio 1"
      ],
      "metadata": {
        "id": "jqLl8wJs43Pd"
      }
    },
    {
      "cell_type": "code",
      "execution_count": null,
      "metadata": {
        "id": "pU5oJO1H41tS"
      },
      "outputs": [],
      "source": [
        "n1 = float(input(\"Digite a primeira nota: \"))\n",
        "n2 = float(input(\"Digite a segunda nota: \"))\n",
        "n3 = float(input(\"Digite a terceira nota: \"))\n",
        "me = float(input(\"Digite a média dos exercícios: \"))\n",
        "\n",
        "ma = (n1 + n2*2 + n3*3 + me)/7\n",
        "\n",
        "if ma >= 9:\n",
        "    conceito = \"A\"\n",
        "elif ma >= 7.5:\n",
        "    conceito = \"B\"\n",
        "elif ma >= 6:\n",
        "    conceito = \"C\"\n",
        "elif ma >= 4:\n",
        "    conceito = \"D\"\n",
        "else:\n",
        "    conceito = \"E\"\n",
        "\n",
        "print(\"Média de aproveitamento: {:.2f}\".format(ma))\n",
        "print(\"Conceito:\", conceito)"
      ]
    },
    {
      "cell_type": "markdown",
      "source": [
        "Exercicio 2"
      ],
      "metadata": {
        "id": "hfikEPfN44V0"
      }
    },
    {
      "cell_type": "code",
      "source": [
        "nome = input(\"Digite o seu nome: \")\n",
        "endereco = input(\"Digite o seu endereço: \")\n",
        "cep = input(\"Digite o seu CEP: \")\n",
        "telefone = input(\"Digite o seu telefone: \")\n",
        "\n",
        "print(\"Nome:\", nome)\n",
        "print(\"Endereço:\", endereco)\n",
        "print(\"CEP e Telefone:\", cep, telefone)"
      ],
      "metadata": {
        "id": "lahVXojE45MM"
      },
      "execution_count": null,
      "outputs": []
    },
    {
      "cell_type": "markdown",
      "source": [
        "Exercicio 3"
      ],
      "metadata": {
        "id": "rnyJyBm145bL"
      }
    },
    {
      "cell_type": "code",
      "source": [
        "print(\"XXXXX\")\n",
        "print(\"X   X\")\n",
        "print(\"X   X\")\n",
        "print(\"X   X\")\n",
        "print(\"XXXXX\")"
      ],
      "metadata": {
        "id": "-SJsi5Pj45lr"
      },
      "execution_count": null,
      "outputs": []
    },
    {
      "cell_type": "markdown",
      "source": [
        "Exercicio 4"
      ],
      "metadata": {
        "id": "NcopIsEX450w"
      }
    },
    {
      "cell_type": "code",
      "source": [
        "nome_aluno = input(\"Digite o nome do aluno(a): \")\n",
        "nota_aluno = float(input(\"Digite a nota do aluno(a): \"))\n",
        "\n",
        "print(\"\\nALUNO(A)       NOTA\")\n",
        "print(\"=========      =====\")\n",
        "print(\"{:<12}   {:<6.1f}\".format(nome_aluno, nota_aluno))"
      ],
      "metadata": {
        "id": "toiFQBEv4568"
      },
      "execution_count": null,
      "outputs": []
    },
    {
      "cell_type": "markdown",
      "source": [
        "Exercicio 5"
      ],
      "metadata": {
        "id": "-K8FuxNC46A7"
      }
    },
    {
      "cell_type": "code",
      "source": [
        "\n",
        "print(\"Cadastro de Clientes\")\n",
        "print(\"0 - Fim\")\n",
        "print(\"1 - Inclui\")\n",
        "print(\"2 - Altera\")\n",
        "print(\"3 - Exclui\")\n",
        "print(\"4 - Consulta\")\n",
        "\n",
        "opcao = int(input(\"Escolha uma opção: \"))\n",
        "\n",
        "if opcao == 0:\n",
        "    print(\"Fim do programa\")\n",
        "elif opcao == 1:\n",
        "    print(\"Inclusão de cliente\")\n",
        "elif opcao == 2:\n",
        "    print(\"Alteração de cliente\")\n",
        "elif opcao == 3:\n",
        "    print(\"Exclusão de cliente\")\n",
        "elif opcao == 4:\n",
        "    print(\"Consulta de cliente\")\n",
        "else:\n",
        "    print(\"Opção inválida\")"
      ],
      "metadata": {
        "id": "SVzjOYxH46JD"
      },
      "execution_count": null,
      "outputs": []
    },
    {
      "cell_type": "markdown",
      "source": [
        "Exercicio 6"
      ],
      "metadata": {
        "id": "r0fHYciz46QL"
      }
    },
    {
      "cell_type": "code",
      "source": [
        "haracter = input(\"Enter a character: \")\n",
        "\n",
        "spaces = \" \" * 6\n",
        "tree = character * 1\n",
        "print(spaces + tree)\n",
        "\n",
        "spaces = \" \" * 5\n",
        "tree = character * 3\n",
        "print(spaces + tree)\n",
        "\n",
        "spaces = \" \" * 4\n",
        "tree = character * 5\n",
        "print(spaces + tree)\n",
        "\n",
        "spaces = \" \" * 3\n",
        "tree = character * 7\n",
        "print(spaces + tree)\n",
        "\n",
        "spaces = \" \" * 2\n",
        "tree = character * 9\n",
        "print(spaces + tree)\n",
        "\n",
        "spaces = \" \" * 1\n",
        "tree = character * 11\n",
        "print(spaces + tree)\n",
        "\n",
        "tree = character * 13\n",
        "print(tree)\n",
        "\n",
        "spaces = \" \" * 5\n",
        "tree = character * 2\n",
        "print(spaces + tree)\n",
        "\n",
        "spaces = \" \" * 5\n",
        "tree = character * 2\n",
        "print(spaces + tree)\n",
        "\n",
        "spaces = \" \" * 4\n",
        "tree = character * 4\n",
        "print(spaces + tree)"
      ],
      "metadata": {
        "id": "tYpaHVUz46V8"
      },
      "execution_count": null,
      "outputs": []
    },
    {
      "cell_type": "markdown",
      "source": [
        "Exercicio 7"
      ],
      "metadata": {
        "id": "wZ8UxfU546bk"
      }
    },
    {
      "cell_type": "code",
      "source": [
        "x = 17\n",
        "y = 3.2\n",
        "\n",
        "resultado1 = x / 4 + y\n",
        "print(\"a) x / 4 + y =\", result1)\n",
        "\n",
        "result2 = x * y ** 6\n",
        "print(\"b) x * y ** 6 =\", result2)\n",
        "\n",
        "resultado1 = x % 4\n",
        "resultado2 = int(y * 10) // 4\n",
        "resultado = (resultado1, resultado2)\n",
        "print(\"c) (x % 4) , (((int) y * 10) // 4) =\", resultado)\n",
        "\n",
        "resultado = (x / 6 // x / 3) + 4\n",
        "print(\"d) (x / 6 // x / 3) + 4 =\", resultado)"
      ],
      "metadata": {
        "id": "SAXM4RFt46kU"
      },
      "execution_count": null,
      "outputs": []
    },
    {
      "cell_type": "markdown",
      "source": [
        "Exercicio 8"
      ],
      "metadata": {
        "id": "1crbjz_a46pz"
      }
    },
    {
      "cell_type": "code",
      "source": [
        "n = int(input(\"Digite o número de termos (n): \"))\n",
        "a1 = int(input(\"Digite o valor inicial (a1): \"))\n",
        "an = int(input(\"Digite o valor final (an): \"))\n",
        "\n",
        "S = n * (a1 + an) / 2\n",
        "\n",
        "print(\"A soma dos termos da PA é:\", S)"
      ],
      "metadata": {
        "id": "h3LzFNRe46uM"
      },
      "execution_count": null,
      "outputs": []
    },
    {
      "cell_type": "markdown",
      "source": [
        "e\n",
        "Exercicio 9"
      ],
      "metadata": {
        "id": "-yji9bu_5MbL"
      }
    },
    {
      "cell_type": "code",
      "source": [
        "a1 = int(input(\"Digite o valor inicial (a1): \"))\n",
        "n = int(input(\"Digite a quantidade de termos (n): \"))\n",
        "q = int(input(\"Digite a razão (q) [q >= 2]: \"))\n",
        "\n",
        "if q >= 2:\n",
        "    Sn = a1 * (q**n - 1) / (q - 1)\n",
        "    print(\"A soma dos termos da PA é:\", Sn)\n",
        "else:\n",
        "    print(\"A razão (q) deve ser maior ou igual a 2.\")\n",
        "Footer\n"
      ],
      "metadata": {
        "id": "nD-RJZ4N5Mkz"
      },
      "execution_count": null,
      "outputs": []
    },
    {
      "cell_type": "markdown",
      "source": [
        "Exercicio 10"
      ],
      "metadata": {
        "id": "I-SBIqV95NCi"
      }
    },
    {
      "cell_type": "code",
      "source": [
        "from datetime import date\n",
        "\n",
        "ano_atual = date.today().year\n",
        "ano_nascimento = int(input(\"Digite o ano de nascimento: \"))\n",
        "idade = ano_atual - ano_nascimento\n",
        "\n",
        "if idade >= 16:\n",
        "    print(\"Você pode votar este ano. Sua idade é: \", idade)\n",
        "else:\n",
        "    print(\"Você não pode votar este ano. Sua idade é: \", idade)"
      ],
      "metadata": {
        "id": "vIYCKjyC5NLD"
      },
      "execution_count": null,
      "outputs": []
    },
    {
      "cell_type": "markdown",
      "source": [
        "Exercicio 11"
      ],
      "metadata": {
        "id": "fDBPqtce5NRk"
      }
    },
    {
      "cell_type": "code",
      "source": [
        "senha = int(input(\"Digite a senha: \"))\n",
        "\n",
        "if senha == 8765:\n",
        "    print(\"ACESSO PERMITIDO\")\n",
        "else:\n",
        "    print(\"ACESSO NEGADO\")"
      ],
      "metadata": {
        "id": "kQhS-nKX5NX8"
      },
      "execution_count": null,
      "outputs": []
    },
    {
      "cell_type": "markdown",
      "source": [
        "Exercicio 12"
      ],
      "metadata": {
        "id": "n4DABqZk5Ner"
      }
    },
    {
      "cell_type": "code",
      "source": [
        "altura = float(input(\"Digite sua altura: \"))\n",
        "sexo = int(input(\"Digite seu sexo (1 para feminino e 2 para masculino): \"))\n",
        "\n",
        "if sexo == 1:\n",
        "    peso_ideal = 62.1 * altura - 44.7\n",
        "    print(\"Seu peso ideal é: \", peso_ideal)\n",
        "\n",
        "elif sexo == 2:\n",
        "    peso_ideal = 72.7 * altura - 58\n",
        "    print(\"Seu peso ideal é: \", peso_ideal)\n",
        "\n",
        "else:\n",
        "    print(\"Sexo inválido.\")"
      ],
      "metadata": {
        "id": "Qo2M6W4I5NmK"
      },
      "execution_count": null,
      "outputs": []
    },
    {
      "cell_type": "markdown",
      "source": [
        "Exercicio 13"
      ],
      "metadata": {
        "id": "V3YxGrqe5Nti"
      }
    },
    {
      "cell_type": "code",
      "source": [
        "num_lados = int(input(\"Insira o número de lados do polígono: \"))\n",
        "\n",
        "if num_lados == 3:\n",
        "    print(\"TRIÂNGULO\")\n",
        "    lado = float(input(\"Insira o comprimento do lado: \"))\n",
        "    area = (lado**2 * (3)**0.5) / 4\n",
        "    print(\"A área é:\", area)\n",
        "elif num_lados == 4:\n",
        "    print(\"QUADRADO\")\n",
        "    lado = float(input(\"Insira o comprimento do lado: \"))\n",
        "    area = lado**2\n",
        "    print(\"A área é:\", area)\n",
        "elif num_lados == 5:\n",
        "    print(\"PENTÁGONO\")\n",
        "else:\n",
        "    print(\"Número de lados inválido.\")"
      ],
      "metadata": {
        "id": "-OWf2ww35N0z"
      },
      "execution_count": null,
      "outputs": []
    },
    {
      "cell_type": "markdown",
      "source": [
        "Exercicio 14"
      ],
      "metadata": {
        "id": "9m5X-j1-5N6y"
      }
    },
    {
      "cell_type": "code",
      "source": [
        "lados = int(input(\"Informe o número de lados do polígono: \"))\n",
        "\n",
        "if lados < 3:\n",
        "    print(\"NÃO É UM POLÍGONO\")\n",
        "elif lados == 3:\n",
        "    print(\"TRIÂNGULO\")\n",
        "    area = (lados**2 * (3**0.5)) / 4\n",
        "    print(\"A área do triângulo é de\", area)\n",
        "elif lados == 4:\n",
        "    print(\"QUADRADO\")\n",
        "    area = lados**2\n",
        "    print(\"A área do quadrado é de\", area)\n",
        "elif lados == 5:\n",
        "    print(\"PENTÁGONO\")\n",
        "else:\n",
        "    print(\"POLÍGONO NÃO IDENTIFICADO\")"
      ],
      "metadata": {
        "id": "WIjEuaJG6Gb7"
      },
      "execution_count": null,
      "outputs": []
    }
  ]
}